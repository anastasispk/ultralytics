{
 "cells": [
  {
   "cell_type": "code",
   "execution_count": 2,
   "metadata": {},
   "outputs": [],
   "source": [
    "import random\n",
    "import os\n",
    "from ultralytics import YOLO\n",
    "import cv2"
   ]
  },
  {
   "cell_type": "code",
   "execution_count": 4,
   "metadata": {},
   "outputs": [
    {
     "name": "stderr",
     "output_type": "stream",
     "text": [
      "\n",
      "image 1/1 /home/anastasispk/Dev/ultralytics/Bullet-Holes-6/test/images/IMG_20211127_120337_jpg.rf.99ab6c1efe00db3fb4162c7dfef7d7f9.jpg: 640x640 8 Bullet Holes, 26.6ms\n",
      "Speed: 0.8ms preprocess, 26.6ms inference, 1.3ms postprocess per image at shape (1, 3, 640, 640)\n"
     ]
    }
   ],
   "source": [
    "image_folder = '/home/anastasispk/Dev/ultralytics/Bullet-Holes-6/test/images'\n",
    "image = random.choice(os.listdir(image_folder))\n",
    "model = YOLO('yolov8l-seg.pt')  # load an official model\n",
    "model = YOLO('/home/anastasispk/Dev/ultralytics/runs/segment/train/weights/best.pt')  # load a custom model\n",
    "\n",
    "# Predict with the model\n",
    "image_path = os.path.join(image_folder,image)\n",
    "img = cv2.imread(image_path)\n",
    "results = model(image_path)  # predict on an image\n",
    "res_plotted = results[0].plot(img=img, masks=True, boxes=False)\n",
    "cv2.imshow('', res_plotted)\n",
    "cv2.waitKey(0)\n",
    "cv2.destroyAllWindows()"
   ]
  },
  {
   "cell_type": "code",
   "execution_count": null,
   "metadata": {},
   "outputs": [],
   "source": []
  }
 ],
 "metadata": {
  "kernelspec": {
   "display_name": "yolov8",
   "language": "python",
   "name": "python3"
  },
  "language_info": {
   "codemirror_mode": {
    "name": "ipython",
    "version": 3
   },
   "file_extension": ".py",
   "mimetype": "text/x-python",
   "name": "python",
   "nbconvert_exporter": "python",
   "pygments_lexer": "ipython3",
   "version": "3.8.17"
  },
  "orig_nbformat": 4
 },
 "nbformat": 4,
 "nbformat_minor": 2
}
